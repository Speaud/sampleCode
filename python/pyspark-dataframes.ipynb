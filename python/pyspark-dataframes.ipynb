{
 "cells": [
  {
   "cell_type": "code",
   "execution_count": null,
   "metadata": {},
   "outputs": [],
   "source": [
    "from pyspark.sql import SparkSession\n",
    "from pyspark.sql.functions import mean, min, max, rand, randn"
   ]
  },
  {
   "cell_type": "code",
   "execution_count": null,
   "metadata": {},
   "outputs": [],
   "source": [
    "spark = SparkSession \\\n",
    "        .builder \\\n",
    "        .appName('demo') \\\n",
    "        .getOrCreate()"
   ]
  },
  {
   "cell_type": "code",
   "execution_count": null,
   "metadata": {},
   "outputs": [],
   "source": [
    "# alt ways to create a spark dataframe\n",
    "a = spark.createDataFrame([\"10\",\"11\",\"13\"], \"string\").toDF(\"age\")\n",
    "a.show()\n",
    "#alt_way_b = spark.createDataFrame([(\"10\", ), (\"11\", ), (\"13\",  )], [\"age\"])\n",
    "#from pyspark.sql.types import StringType\n",
    "#spark.createDataFrame([\"10\",\"11\",\"13\"], StringType()).toDF(\"age\")"
   ]
  },
  {
   "cell_type": "code",
   "execution_count": null,
   "metadata": {},
   "outputs": [],
   "source": [
    "# df = spark.range(0, 10)\n",
    "# df.select(\"id\", rand(seed=10).alias(\"uniform\"), randn(seed=27).alias(\"normal\")).show()\n",
    "\n",
    "df = spark \\\n",
    "        .range(0, 10) \\\n",
    "        .withColumn('uniform', rand(seed=13)) \\\n",
    "        .withColumn('normal', randn(seed=31)) \\\n",
    "        .withColumn('normal', randn(seed=31))"
   ]
  },
  {
   "cell_type": "code",
   "execution_count": null,
   "metadata": {},
   "outputs": [],
   "source": [
    "#df.select(\"id\", rand(seed=10).alias(\"uniform\"), randn(seed=27).alias(\"normal\")).show()"
   ]
  },
  {
   "cell_type": "code",
   "execution_count": null,
   "metadata": {},
   "outputs": [],
   "source": [
    "new_row = spark.createDataFrame([(10, 1, 1)], ['id', 'uniform', 'normal'])\n",
    "df = df.union(new_row)"
   ]
  },
  {
   "cell_type": "code",
   "execution_count": null,
   "metadata": {},
   "outputs": [],
   "source": [
    "df.printSchema()\n",
    "df.show()"
   ]
  },
  {
   "cell_type": "code",
   "execution_count": null,
   "metadata": {},
   "outputs": [],
   "source": [
    "df.select([mean('uniform'), min('uniform'), max('uniform')]).show()"
   ]
  },
  {
   "cell_type": "code",
   "execution_count": null,
   "metadata": {},
   "outputs": [],
   "source": [
    "# sample covariance of two columns\n",
    "df.stat.cov('uniform', 'normal')"
   ]
  },
  {
   "cell_type": "code",
   "execution_count": null,
   "metadata": {},
   "outputs": [],
   "source": []
  },
  {
   "cell_type": "code",
   "execution_count": null,
   "metadata": {},
   "outputs": [],
   "source": [
    "# events\n",
    "e_cols = [\"EVENTID\",\"EVENTTIMESTAMP\",\"EVENTTYPE\",\"PROVIDERID\",\"PATIENTID\",\"TASKID\",\"ENCOUNTERID\",\"WORKSTATIONID\",\"PROCESS_ID\",\"EVENTACTION\"]\n",
    "e_rows = [\n",
    "    (\"5636059882.643001\",\"2019-08-07 00:11:22\",\"View\",\"14173\",\"Z854894\",\"17008\",\"30041094735\",\"10003000\",\"prd-32835774\",\"QUERY\"),\n",
    "    (\"5636059882.643001\",\"2019-08-07 00:11:22\",\"View\",\"14173\",\"Z854894\",\"17008\",\"30041094735\",\"99001647\",\"prd-32835774\",\"QUERY\"),\n",
    "    (\"5636059882.643001\",\"2019-08-07 00:11:22\",\"View\",\"14173\",\"Z854894\",\"17008\",\"30041094735\",\"99001647\",\"prd-32835774\",\"QUERY\"),\n",
    "    (\"5636059882.643001\",\"2019-08-07 00:11:22\",\"View\",\"14173\",\"Z854894\",\"17008\",\"30041094735\",\"20000073\",\"prd-32835774\",\"QUERY\"),\n",
    "    (\"5636059882.643001\",\"2019-08-07 00:11:22\",\"View\",\"14173\",\"Z854894\",\"17008\",\"30041094735\",\"\",\"prd-32835774\",\"QUERY\")\n",
    "]\n",
    "\n",
    "# workstations\n",
    "w_cols = [\"WORKSTATIONID\",\"WORKSTATIONAREA\",\"EXTERNAL_NAME\",\"DEPARTMENT_ID\",\"NETWORK\",\"COMPANY\"]\n",
    "w_rows = [\n",
    "    (\"10003000\",\"BDW ORTHO/NEURO\",\"Brandywine Hospital Ortho/Neuro\",\"107001009\",\"Brandywine\",\"Brandywine Hospital\"),\n",
    "    (\"20000073\",\"FAMILY FLOURTOWN THMG\",\"Springfield Medical Associates\",\"102409001\",\"Chestnut Hill\",\"CHN - Chestnut Hill Clinic\"),\n",
    "    (\"00195B2FF60701080B160C03020E1809\",\"EMH EMERGENCY\",\"EMH Emergency Department\",\"10101100\",\"\",\"\"),\n",
    "    (\"40001111\",\"PHX 2AR\",\"Rehabilitation at Phoenixville Hospital\",\"107601028\",\"Phoenixville\",\"Phoenixville Hospital\"),\n",
    "    (\"50001297\",\"PTN MAIN OR\",\"Pottstown Main OR\",\"107801016\",\"Pottstown\",\"Pottstown Hospital\"),\n",
    "    (\"50001303\",\"PTN EMERGENCY\",\"Pottstown Hospital Emergency Department\",\"107801001\",\"Pottstown\",\"Pottstown Hospital\"),\n",
    "    (\"50001310\",\"INTL MED BOYER THMG\",\"Berks Medical Associates\",\"103201001\",\"Pottstown\",\"PTS - Pottstown Clinic Co\")\n",
    "]\n",
    "\n",
    "e_df = spark.createDataFrame(e_rows, e_cols)\n",
    "w_df = spark.createDataFrame(w_rows, w_cols)\n",
    "\n",
    "lte_df = w_df.select(w_df['WORKSTATIONID'], w_df['NETWORK'])"
   ]
  },
  {
   "cell_type": "code",
   "execution_count": null,
   "metadata": {},
   "outputs": [],
   "source": [
    "e_df.printSchema()\n",
    "e_df.show()"
   ]
  },
  {
   "cell_type": "code",
   "execution_count": null,
   "metadata": {},
   "outputs": [],
   "source": [
    "foo = w_df.filter()select(w_df['WORKSTATIONID'], w_df['NETWORK'])"
   ]
  },
  {
   "cell_type": "code",
   "execution_count": null,
   "metadata": {},
   "outputs": [],
   "source": [
    "newRow = spark.createDataFrame([(\"4\", \"ASD\")], ['WORKSTATIONID', 'NETWORK'])\n",
    "appended = lte_df.union(newRow)\n",
    "appended.show()\n",
    "\n",
    "# .filter(df.age > 3)"
   ]
  },
  {
   "cell_type": "code",
   "execution_count": null,
   "metadata": {},
   "outputs": [],
   "source": [
    "w_df.printSchema()\n",
    "w_df.show()"
   ]
  },
  {
   "cell_type": "code",
   "execution_count": null,
   "metadata": {},
   "outputs": [],
   "source": [
    "df = e_df.join(lte_df, \"WORKSTATIONID\", \"right_outer\")"
   ]
  },
  {
   "cell_type": "code",
   "execution_count": null,
   "metadata": {},
   "outputs": [],
   "source": [
    "df.filter(df['EVENTID'] != '').show()"
   ]
  },
  {
   "cell_type": "code",
   "execution_count": null,
   "metadata": {},
   "outputs": [],
   "source": [
    "from pyspark.sql.functions import round\n",
    "a = df.groupBy('NETWORK').count()\n",
    "\n",
    "def pctVal(x):\n",
    "    #return round(a['count']/df.count(),2)\n",
    "    b = round(x/df.count(),2)\n",
    "    return b\n",
    "    \n",
    "a.withColumn('pct', round(a['count']/df.count(), 2)).show()"
   ]
  },
  {
   "cell_type": "code",
   "execution_count": null,
   "metadata": {},
   "outputs": [],
   "source": [
    "def func(v):\n",
    "    print(a[v])\n",
    "    return v\n",
    "\n",
    "a.select('NETWORK', func('count')).show()"
   ]
  }
 ],
 "metadata": {
  "kernelspec": {
   "display_name": "Python 3",
   "language": "python",
   "name": "python3"
  },
  "language_info": {
   "codemirror_mode": {
    "name": "ipython",
    "version": 3
   },
   "file_extension": ".py",
   "mimetype": "text/x-python",
   "name": "python",
   "nbconvert_exporter": "python",
   "pygments_lexer": "ipython3",
   "version": "3.6.8"
  }
 },
 "nbformat": 4,
 "nbformat_minor": 2
}
